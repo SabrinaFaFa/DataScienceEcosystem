{
  "metadata": {
    "kernelspec": {
      "name": "python",
      "display_name": "Python (Pyodide)",
      "language": "python"
    },
    "language_info": {
      "codemirror_mode": {
        "name": "python",
        "version": 3
      },
      "file_extension": ".py",
      "mimetype": "text/x-python",
      "name": "python",
      "nbconvert_exporter": "python",
      "pygments_lexer": "ipython3",
      "version": "3.8"
    }
  },
  "nbformat_minor": 5,
  "nbformat": 4,
  "cells": [
    {
      "id": "0d0725ed-5295-4cc7-9807-3b45ff980846",
      "cell_type": "raw",
      "source": "Data Science Tools and Ecosystem",
      "metadata": {}
    },
    {
      "id": "b1281eb0-4ea5-433b-be9d-912f85ae03ea",
      "cell_type": "markdown",
      "source": "In this notebook, Data Science Tools and Ecosystem are summarized.",
      "metadata": {}
    },
    {
      "id": "4673d020-b61b-4a0a-898a-8d6e5c82a9b5",
      "cell_type": "markdown",
      "source": "Some of the popular languages that Data Scientists use are:",
      "metadata": {}
    },
    {
      "id": "7e97c6a1-78ba-4e9c-a856-8fc9236e6873",
      "cell_type": "markdown",
      "source": "**Objectives:**\nList popular languages for Data Science\n\n## Author\nSabrina Haddouche Farraj",
      "metadata": {}
    },
    {
      "id": "0381f332-75ae-4086-b19c-14c24f185d2c",
      "cell_type": "markdown",
      "source": "# 1 - Python\n## 2 - R\n### 3 - Julia",
      "metadata": {}
    },
    {
      "id": "ba7bebf7-1c04-4e34-a38d-841e7e65a972",
      "cell_type": "markdown",
      "source": "|Data Science Tools|\n|-----------------|\n| Jupyter NoteBook|\n|Apache Spark|\n| TensorFlow|",
      "metadata": {}
    },
    {
      "id": "66334c56-e909-478c-b839-1ed2a3ba1369",
      "cell_type": "markdown",
      "source": "### Below are a few examples of evaluating arithmetic expressions in Python",
      "metadata": {}
    },
    {
      "id": "fcf5aede-3146-4b2f-af44-d260998cc73b",
      "cell_type": "code",
      "source": "# This a simple arithmetic expression to mutiply then add integers \n(3*4)+5",
      "metadata": {
        "trusted": true
      },
      "outputs": [
        {
          "execution_count": 3,
          "output_type": "execute_result",
          "data": {
            "text/plain": "17"
          },
          "metadata": {}
        }
      ],
      "execution_count": 3
    },
    {
      "id": "37826360-e4b8-4cc8-8c34-362ac4507611",
      "cell_type": "code",
      "source": "#  This will convert 200 minutes to hours by diving by 60\nminutes = 200\nhours = (minutes/60)\nresult = hours\nprint(hours)\n",
      "metadata": {
        "trusted": true
      },
      "outputs": [
        {
          "name": "stdout",
          "output_type": "stream",
          "text": "3.3333333333333335\n"
        }
      ],
      "execution_count": 7
    },
    {
      "id": "45005b25-10a7-45a3-ad05-e46ead42ccbc",
      "cell_type": "code",
      "source": "",
      "metadata": {
        "trusted": true
      },
      "outputs": [],
      "execution_count": null
    }
  ]
}